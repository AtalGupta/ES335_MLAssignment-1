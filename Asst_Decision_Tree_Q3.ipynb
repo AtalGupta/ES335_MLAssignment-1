{
  "cells": [
    {
      "cell_type": "markdown",
      "id": "046cdca5",
      "metadata": {
        "id": "046cdca5"
      },
      "source": [
        "# Assignment — Automotive Efficiency (Q3)\n",
        "\n",
        "In this question we were asked to run our implementation of the decision tree for the automotive efficiency problem."
      ]
    },
    {
      "cell_type": "code",
      "execution_count": null,
      "id": "f07d8cdc",
      "metadata": {
        "id": "f07d8cdc"
      },
      "outputs": [],
      "source": [
        "# === Imports & setup ===\n",
        "import numpy as np\n",
        "import pandas as pd\n",
        "import matplotlib.pyplot as plt\n",
        "\n",
        "# Your implementations\n",
        "from tree.base import DecisionTree\n",
        "from metrics import rmse, mae\n",
        "\n",
        "# For comparison\n",
        "from sklearn.tree import DecisionTreeRegressor\n",
        "from sklearn.model_selection import train_test_split\n",
        "from sklearn.metrics import mean_squared_error, mean_absolute_error\n",
        "\n",
        "np.random.seed(42)\n"
      ]
    },
    {
      "cell_type": "markdown",
      "id": "2f49978b",
      "metadata": {
        "id": "2f49978b"
      },
      "source": [
        "We removed the rows which had missing horsepower values."
      ]
    },
    {
      "cell_type": "code",
      "execution_count": null,
      "id": "5cc241d5",
      "metadata": {
        "id": "5cc241d5",
        "outputId": "28625ca2-be8c-4433-b215-0c90da1e8f8d"
      },
      "outputs": [
        {
          "name": "stderr",
          "output_type": "stream",
          "text": [
            "C:\\Users\\aatal\\AppData\\Local\\Temp\\ipykernel_3640\\2920821028.py:3: FutureWarning: The 'delim_whitespace' keyword in pd.read_csv is deprecated and will be removed in a future version. Use ``sep='\\s+'`` instead\n",
            "  data = pd.read_csv(\n"
          ]
        },
        {
          "name": "stdout",
          "output_type": "stream",
          "text": [
            "Shape after cleaning: (392, 8)\n"
          ]
        },
        {
          "data": {
            "text/html": [
              "<div>\n",
              "<style scoped>\n",
              "    .dataframe tbody tr th:only-of-type {\n",
              "        vertical-align: middle;\n",
              "    }\n",
              "\n",
              "    .dataframe tbody tr th {\n",
              "        vertical-align: top;\n",
              "    }\n",
              "\n",
              "    .dataframe thead th {\n",
              "        text-align: right;\n",
              "    }\n",
              "</style>\n",
              "<table border=\"1\" class=\"dataframe\">\n",
              "  <thead>\n",
              "    <tr style=\"text-align: right;\">\n",
              "      <th></th>\n",
              "      <th>mpg</th>\n",
              "      <th>cylinders</th>\n",
              "      <th>displacement</th>\n",
              "      <th>horsepower</th>\n",
              "      <th>weight</th>\n",
              "      <th>acceleration</th>\n",
              "      <th>model year</th>\n",
              "      <th>origin</th>\n",
              "    </tr>\n",
              "  </thead>\n",
              "  <tbody>\n",
              "    <tr>\n",
              "      <th>0</th>\n",
              "      <td>18.0</td>\n",
              "      <td>8</td>\n",
              "      <td>307.0</td>\n",
              "      <td>130.0</td>\n",
              "      <td>3504.0</td>\n",
              "      <td>12.0</td>\n",
              "      <td>70</td>\n",
              "      <td>1</td>\n",
              "    </tr>\n",
              "    <tr>\n",
              "      <th>1</th>\n",
              "      <td>15.0</td>\n",
              "      <td>8</td>\n",
              "      <td>350.0</td>\n",
              "      <td>165.0</td>\n",
              "      <td>3693.0</td>\n",
              "      <td>11.5</td>\n",
              "      <td>70</td>\n",
              "      <td>1</td>\n",
              "    </tr>\n",
              "    <tr>\n",
              "      <th>2</th>\n",
              "      <td>18.0</td>\n",
              "      <td>8</td>\n",
              "      <td>318.0</td>\n",
              "      <td>150.0</td>\n",
              "      <td>3436.0</td>\n",
              "      <td>11.0</td>\n",
              "      <td>70</td>\n",
              "      <td>1</td>\n",
              "    </tr>\n",
              "    <tr>\n",
              "      <th>3</th>\n",
              "      <td>16.0</td>\n",
              "      <td>8</td>\n",
              "      <td>304.0</td>\n",
              "      <td>150.0</td>\n",
              "      <td>3433.0</td>\n",
              "      <td>12.0</td>\n",
              "      <td>70</td>\n",
              "      <td>1</td>\n",
              "    </tr>\n",
              "    <tr>\n",
              "      <th>4</th>\n",
              "      <td>17.0</td>\n",
              "      <td>8</td>\n",
              "      <td>302.0</td>\n",
              "      <td>140.0</td>\n",
              "      <td>3449.0</td>\n",
              "      <td>10.5</td>\n",
              "      <td>70</td>\n",
              "      <td>1</td>\n",
              "    </tr>\n",
              "  </tbody>\n",
              "</table>\n",
              "</div>"
            ],
            "text/plain": [
              "    mpg  cylinders  displacement  horsepower  weight  acceleration  \\\n",
              "0  18.0          8         307.0       130.0  3504.0          12.0   \n",
              "1  15.0          8         350.0       165.0  3693.0          11.5   \n",
              "2  18.0          8         318.0       150.0  3436.0          11.0   \n",
              "3  16.0          8         304.0       150.0  3433.0          12.0   \n",
              "4  17.0          8         302.0       140.0  3449.0          10.5   \n",
              "\n",
              "   model year  origin  \n",
              "0          70       1  \n",
              "1          70       1  \n",
              "2          70       1  \n",
              "3          70       1  \n",
              "4          70       1  "
            ]
          },
          "execution_count": 2,
          "metadata": {},
          "output_type": "execute_result"
        }
      ],
      "source": [
        "# === Read the data ===\n",
        "url = 'https://archive.ics.uci.edu/ml/machine-learning-databases/auto-mpg/auto-mpg.data'\n",
        "data = pd.read_csv(\n",
        "    url,\n",
        "    delim_whitespace=True,\n",
        "    header=None,\n",
        "    names=[\"mpg\", \"cylinders\", \"displacement\", \"horsepower\", \"weight\",\n",
        "           \"acceleration\", \"model year\", \"origin\", \"car name\"]\n",
        ")\n",
        "\n",
        "# === Clean: drop non-predictive column, handle missing horsepower ===\n",
        "data = data.drop('car name', axis=1)\n",
        "data['horsepower'] = pd.to_numeric(data['horsepower'], errors='coerce')\n",
        "data = data.dropna().reset_index(drop=True)\n",
        "\n",
        "# Features / Target\n",
        "X = data.drop('mpg', axis=1)\n",
        "y = data['mpg']\n",
        "\n",
        "print(\"Shape after cleaning:\", data.shape)\n",
        "data.head()"
      ]
    },
    {
      "cell_type": "markdown",
      "id": "a868f444",
      "metadata": {
        "id": "a868f444"
      },
      "source": [
        "We first randomly shuffle the data and then split it into training and testing sets (70% and 30% respectively)"
      ]
    },
    {
      "cell_type": "code",
      "execution_count": null,
      "id": "6e901236",
      "metadata": {
        "id": "6e901236",
        "outputId": "f12cb178-4d53-40cc-e7ed-0f01b0486115"
      },
      "outputs": [
        {
          "name": "stdout",
          "output_type": "stream",
          "text": [
            "Train shape: (274, 7)\n",
            "Test shape: (118, 7)\n"
          ]
        }
      ],
      "source": [
        "X_train, X_test, y_train, y_test = train_test_split(\n",
        "    X, y, test_size=0.3, random_state=42\n",
        ")\n",
        "\n",
        "print(\"Train shape:\", X_train.shape)\n",
        "print(\"Test shape:\", X_test.shape)"
      ]
    },
    {
      "cell_type": "markdown",
      "id": "ead8bd1f",
      "metadata": {
        "id": "ead8bd1f"
      },
      "source": [
        "We then train our decision tree on the training set and evaluate its performance on the testing set.\n"
      ]
    },
    {
      "cell_type": "code",
      "execution_count": null,
      "id": "d05cfd4c",
      "metadata": {
        "id": "d05cfd4c",
        "outputId": "bc587a87-29e3-4329-b24e-60459f1f39d8"
      },
      "outputs": [
        {
          "name": "stdout",
          "output_type": "stream",
          "text": [
            "Custom Decision Tree Results\n",
            "================================\n",
            "RMSE: 3.1772\n",
            "MAE:  2.3038\n"
          ]
        }
      ],
      "source": [
        "# === Train custom Decision Tree ===\n",
        "custom_tree = DecisionTree(criterion=\"information_gain\", max_depth=5)\n",
        "custom_tree.fit(X_train, y_train)\n",
        "\n",
        "# === Predict & evaluate ===\n",
        "y_pred_custom = custom_tree.predict(X_test)\n",
        "\n",
        "rmse_custom = rmse(y_pred_custom, y_test)\n",
        "mae_custom = mae(y_pred_custom, y_test)\n",
        "\n",
        "print(\"Custom Decision Tree Results\")\n",
        "print(\"=\"*32)\n",
        "print(f\"RMSE: {rmse_custom:.4f}\")\n",
        "print(f\"MAE:  {mae_custom:.4f}\")"
      ]
    },
    {
      "cell_type": "markdown",
      "id": "0d46a142",
      "metadata": {
        "id": "0d46a142"
      },
      "source": [
        "We train `DecisionTreeRegressor(max_depth=5)` and compare metrics on the same test set.\n"
      ]
    },
    {
      "cell_type": "code",
      "execution_count": null,
      "id": "cbd8d028",
      "metadata": {
        "id": "cbd8d028",
        "outputId": "c7e7411a-be65-47ad-fb42-2f13a555961b"
      },
      "outputs": [
        {
          "name": "stdout",
          "output_type": "stream",
          "text": [
            "Scikit-learn Decision Tree Results\n",
            "===================================\n",
            "RMSE: 3.1751\n",
            "MAE:  2.2962\n"
          ]
        }
      ],
      "source": [
        "# === Train sklearn Decision Tree ===\n",
        "sklearn_tree = DecisionTreeRegressor(max_depth=5, random_state=42)\n",
        "sklearn_tree.fit(X_train, y_train)\n",
        "\n",
        "# === Predict & evaluate ===\n",
        "y_pred_sklearn = sklearn_tree.predict(X_test)\n",
        "\n",
        "rmse_sklearn = float(np.sqrt(mean_squared_error(y_test, y_pred_sklearn)))\n",
        "mae_sklearn = float(mean_absolute_error(y_test, y_pred_sklearn))\n",
        "\n",
        "print(\"Scikit-learn Decision Tree Results\")\n",
        "print(\"=\"*35)\n",
        "print(f\"RMSE: {rmse_sklearn:.4f}\")\n",
        "print(f\"MAE:  {mae_sklearn:.4f}\")"
      ]
    },
    {
      "cell_type": "code",
      "execution_count": null,
      "id": "ce5bf39f",
      "metadata": {
        "id": "ce5bf39f",
        "outputId": "2380ac32-2e99-4322-bac0-f15710b22697"
      },
      "outputs": [
        {
          "name": "stdout",
          "output_type": "stream",
          "text": [
            "\n",
            "Performance Comparison:\n",
            "Metric     Custom Tree     Scikit-learn   \n",
            "---------------------------------------------\n",
            "RMSE       3.1772          3.1751         \n",
            "MAE        2.3038          2.2962         \n"
          ]
        }
      ],
      "source": [
        "# === Side-by-side comparison ===\n",
        "print(\"\\nPerformance Comparison:\")\n",
        "print(f\"{'Metric':<10} {'Custom Tree':<15} {'Scikit-learn':<15}\")\n",
        "print(\"-\" * 45)\n",
        "print(f\"{'RMSE':<10} {rmse_custom:<15.4f} {rmse_sklearn:<15.4f}\")\n",
        "print(f\"{'MAE':<10} {mae_custom:<15.4f} {mae_sklearn:<15.4f}\")"
      ]
    },
    {
      "cell_type": "markdown",
      "id": "8ef0caea",
      "metadata": {
        "id": "8ef0caea"
      },
      "source": [
        "We have kept the depth to be constant for both the Skit-learn and Scratch implementations. The RMSE values are close to each other, which shows that our implementation is working correctly."
      ]
    },
    {
      "cell_type": "code",
      "execution_count": null,
      "id": "14be1218",
      "metadata": {
        "id": "14be1218",
        "outputId": "007e2871-5cc2-433b-a6e4-4e48ba6a0e15"
      },
      "outputs": [
        {
          "data": {
            "image/png": "[encoded data removed]",
            "text/plain": [
              "<Figure size 1200x400 with 2 Axes>"
            ]
          },
          "metadata": {},
          "output_type": "display_data"
        }
      ],
      "source": [
        "# === Parity plots ===\n",
        "import matplotlib.pyplot as plt\n",
        "\n",
        "plt.figure(figsize=(12, 4))\n",
        "\n",
        "# Custom tree\n",
        "plt.subplot(1, 2, 1)\n",
        "plt.scatter(y_test, y_pred_custom, alpha=0.6)\n",
        "plt.plot([y_test.min(), y_test.max()], [y_test.min(), y_test.max()], linestyle='--', linewidth=2)\n",
        "plt.xlabel('Actual MPG')\n",
        "plt.ylabel('Predicted MPG')\n",
        "plt.title(f'Custom Tree (RMSE: {rmse_custom:.3f})')\n",
        "plt.grid(True, alpha=0.3)\n",
        "\n",
        "# Sklearn tree\n",
        "plt.subplot(1, 2, 2)\n",
        "plt.scatter(y_test, y_pred_sklearn, alpha=0.6)\n",
        "plt.plot([y_test.min(), y_test.max()], [y_test.min(), y_test.max()], linestyle='--', linewidth=2)\n",
        "plt.xlabel('Actual MPG')\n",
        "plt.ylabel('Predicted MPG')\n",
        "plt.title(f'Scikit-learn Tree (RMSE: {rmse_sklearn:.3f})')\n",
        "plt.grid(True, alpha=0.3)\n",
        "\n",
        "plt.tight_layout()\n",
        "plt.show()"
      ]
    }
  ],
  "metadata": {
    "kernelspec": {
      "display_name": "assignment-1",
      "language": "python",
      "name": "python3"
    },
    "language_info": {
      "codemirror_mode": {
        "name": "ipython",
        "version": 3
      },
      "file_extension": ".py",
      "mimetype": "text/x-python",
      "name": "python",
      "nbconvert_exporter": "python",
      "pygments_lexer": "ipython3",
      "version": "3.11.6"
    },
    "colab": {
      "provenance": []
    }
  },
  "nbformat": 4,
  "nbformat_minor": 5
}